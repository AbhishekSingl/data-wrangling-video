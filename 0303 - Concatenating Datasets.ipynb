{
 "cells": [
  {
   "cell_type": "code",
   "execution_count": 1,
   "metadata": {
    "collapsed": true
   },
   "outputs": [],
   "source": [
    "import pandas as pd"
   ]
  },
  {
   "cell_type": "code",
   "execution_count": 35,
   "metadata": {
    "collapsed": true
   },
   "outputs": [],
   "source": [
    "df = pd.DataFrame()"
   ]
  },
  {
   "cell_type": "code",
   "execution_count": 36,
   "metadata": {
    "collapsed": false
   },
   "outputs": [
    {
     "data": {
      "text/html": [
       "<div>\n",
       "<table border=\"1\" class=\"dataframe\">\n",
       "  <thead>\n",
       "    <tr style=\"text-align: right;\">\n",
       "      <th></th>\n",
       "    </tr>\n",
       "  </thead>\n",
       "  <tbody>\n",
       "  </tbody>\n",
       "</table>\n",
       "</div>"
      ],
      "text/plain": [
       "Empty DataFrame\n",
       "Columns: []\n",
       "Index: []"
      ]
     },
     "execution_count": 36,
     "metadata": {},
     "output_type": "execute_result"
    }
   ],
   "source": [
    "df"
   ]
  },
  {
   "cell_type": "code",
   "execution_count": 53,
   "metadata": {
    "collapsed": false
   },
   "outputs": [],
   "source": [
    "for chunk in pd.read_csv('data/ext_lt_invcur.tsv', sep='\\t', chunksize=100):\n",
    "    df = pd.concat([df, chunk])"
   ]
  },
  {
   "cell_type": "code",
   "execution_count": 54,
   "metadata": {
    "collapsed": false
   },
   "outputs": [
    {
     "data": {
      "text/html": [
       "<div>\n",
       "<table border=\"1\" class=\"dataframe\">\n",
       "  <thead>\n",
       "    <tr style=\"text-align: right;\">\n",
       "      <th></th>\n",
       "      <th>2010</th>\n",
       "      <th>2012</th>\n",
       "      <th>2014</th>\n",
       "      <th>currency</th>\n",
       "      <th>geo</th>\n",
       "      <th>geo\\time</th>\n",
       "      <th>partner</th>\n",
       "      <th>partner,currency,stk_flow,sitc06,geo\\time</th>\n",
       "      <th>sitc06</th>\n",
       "      <th>stk_flow</th>\n",
       "    </tr>\n",
       "  </thead>\n",
       "  <tbody>\n",
       "    <tr>\n",
       "      <th>0</th>\n",
       "      <td>67</td>\n",
       "      <td>65.6</td>\n",
       "      <td>61.9</td>\n",
       "      <td>EUR</td>\n",
       "      <td>NaN</td>\n",
       "      <td>AT</td>\n",
       "      <td>EXT_EU</td>\n",
       "      <td>NaN</td>\n",
       "      <td>SITC0-4A</td>\n",
       "      <td>EXP</td>\n",
       "    </tr>\n",
       "    <tr>\n",
       "      <th>1</th>\n",
       "      <td>92.4</td>\n",
       "      <td>85.8</td>\n",
       "      <td>53.8</td>\n",
       "      <td>EUR</td>\n",
       "      <td>NaN</td>\n",
       "      <td>BE</td>\n",
       "      <td>EXT_EU</td>\n",
       "      <td>NaN</td>\n",
       "      <td>SITC0-4A</td>\n",
       "      <td>EXP</td>\n",
       "    </tr>\n",
       "    <tr>\n",
       "      <th>2</th>\n",
       "      <td>54.1</td>\n",
       "      <td>46.2</td>\n",
       "      <td>57.0</td>\n",
       "      <td>EUR</td>\n",
       "      <td>NaN</td>\n",
       "      <td>BG</td>\n",
       "      <td>EXT_EU</td>\n",
       "      <td>NaN</td>\n",
       "      <td>SITC0-4A</td>\n",
       "      <td>EXP</td>\n",
       "    </tr>\n",
       "    <tr>\n",
       "      <th>3</th>\n",
       "      <td>61.4</td>\n",
       "      <td>60.7</td>\n",
       "      <td>79.1</td>\n",
       "      <td>EUR</td>\n",
       "      <td>NaN</td>\n",
       "      <td>CY</td>\n",
       "      <td>EXT_EU</td>\n",
       "      <td>NaN</td>\n",
       "      <td>SITC0-4A</td>\n",
       "      <td>EXP</td>\n",
       "    </tr>\n",
       "    <tr>\n",
       "      <th>4</th>\n",
       "      <td>59.1</td>\n",
       "      <td>66.7</td>\n",
       "      <td>58.3</td>\n",
       "      <td>EUR</td>\n",
       "      <td>NaN</td>\n",
       "      <td>CZ</td>\n",
       "      <td>EXT_EU</td>\n",
       "      <td>NaN</td>\n",
       "      <td>SITC0-4A</td>\n",
       "      <td>EXP</td>\n",
       "    </tr>\n",
       "  </tbody>\n",
       "</table>\n",
       "</div>"
      ],
      "text/plain": [
       "   2010   2012   2014  currency  geo geo\\time partner  \\\n",
       "0    67   65.6    61.9      EUR  NaN       AT  EXT_EU   \n",
       "1  92.4   85.8    53.8      EUR  NaN       BE  EXT_EU   \n",
       "2  54.1   46.2    57.0      EUR  NaN       BG  EXT_EU   \n",
       "3  61.4   60.7    79.1      EUR  NaN       CY  EXT_EU   \n",
       "4  59.1   66.7    58.3      EUR  NaN       CZ  EXT_EU   \n",
       "\n",
       "  partner,currency,stk_flow,sitc06,geo\\time    sitc06 stk_flow  \n",
       "0                                       NaN  SITC0-4A      EXP  \n",
       "1                                       NaN  SITC0-4A      EXP  \n",
       "2                                       NaN  SITC0-4A      EXP  \n",
       "3                                       NaN  SITC0-4A      EXP  \n",
       "4                                       NaN  SITC0-4A      EXP  "
      ]
     },
     "execution_count": 54,
     "metadata": {},
     "output_type": "execute_result"
    }
   ],
   "source": [
    "df.head()"
   ]
  },
  {
   "cell_type": "code",
   "execution_count": 55,
   "metadata": {
    "collapsed": true
   },
   "outputs": [],
   "source": [
    "df = pd.DataFrame()"
   ]
  },
  {
   "cell_type": "code",
   "execution_count": 56,
   "metadata": {
    "collapsed": false
   },
   "outputs": [
    {
     "name": "stdout",
     "output_type": "stream",
     "text": [
      "([['EXT_EU', 'EUR', 'EXP', 'SITC0-4A', 'AT'], ['EXT_EU', 'EUR', 'EXP', 'SITC0-4A', 'BE'], ['EXT_EU', 'EUR', 'EXP', 'SITC0-4A', 'BG'], ['EXT_EU', 'EUR', 'EXP', 'SITC0-4A', 'CY'], ['EXT_EU', 'EUR', 'EXP', 'SITC0-4A', 'CZ']], ['partner', 'currency', 'stk_flow', 'sitc06', 'geo\\\\time'])\n"
     ]
    }
   ],
   "source": [
    "for chunk in pd.read_csv('data/ext_lt_invcur.tsv', sep='\\t', chunksize=100):\n",
    "    data_rows = [row for row in chunk.ix[:,0].str.split(',')]\n",
    "    data_cols = chunk.columns[0].split(',')\n",
    "    print(data_rows[:5], data_cols)\n",
    "    break\n",
    "    df = pd.concat([df, chunk])"
   ]
  },
  {
   "cell_type": "code",
   "execution_count": 57,
   "metadata": {
    "collapsed": false
   },
   "outputs": [
    {
     "name": "stdout",
     "output_type": "stream",
     "text": [
      "   partner currency stk_flow    sitc06 geo\\time  \\\n",
      "0   EXT_EU      EUR      EXP  SITC0-4A       AT   \n",
      "1   EXT_EU      EUR      EXP  SITC0-4A       BE   \n",
      "2   EXT_EU      EUR      EXP  SITC0-4A       BG   \n",
      "3   EXT_EU      EUR      EXP  SITC0-4A       CY   \n",
      "4   EXT_EU      EUR      EXP  SITC0-4A       CZ   \n",
      "5   EXT_EU      EUR      EXP  SITC0-4A       DE   \n",
      "6   EXT_EU      EUR      EXP  SITC0-4A       DK   \n",
      "7   EXT_EU      EUR      EXP  SITC0-4A       EA   \n",
      "8   EXT_EU      EUR      EXP  SITC0-4A       EE   \n",
      "9   EXT_EU      EUR      EXP  SITC0-4A       EL   \n",
      "10  EXT_EU      EUR      EXP  SITC0-4A       ES   \n",
      "11  EXT_EU      EUR      EXP  SITC0-4A       EU   \n",
      "12  EXT_EU      EUR      EXP  SITC0-4A       FI   \n",
      "13  EXT_EU      EUR      EXP  SITC0-4A       FR   \n",
      "14  EXT_EU      EUR      EXP  SITC0-4A       HR   \n",
      "15  EXT_EU      EUR      EXP  SITC0-4A       HU   \n",
      "16  EXT_EU      EUR      EXP  SITC0-4A       IE   \n",
      "17  EXT_EU      EUR      EXP  SITC0-4A       IT   \n",
      "18  EXT_EU      EUR      EXP  SITC0-4A       LT   \n",
      "19  EXT_EU      EUR      EXP  SITC0-4A       LU   \n",
      "20  EXT_EU      EUR      EXP  SITC0-4A       LV   \n",
      "21  EXT_EU      EUR      EXP  SITC0-4A       MT   \n",
      "22  EXT_EU      EUR      EXP  SITC0-4A       NL   \n",
      "23  EXT_EU      EUR      EXP  SITC0-4A       PL   \n",
      "24  EXT_EU      EUR      EXP  SITC0-4A       PT   \n",
      "25  EXT_EU      EUR      EXP  SITC0-4A       RO   \n",
      "26  EXT_EU      EUR      EXP  SITC0-4A       SE   \n",
      "27  EXT_EU      EUR      EXP  SITC0-4A       SI   \n",
      "28  EXT_EU      EUR      EXP  SITC0-4A       SK   \n",
      "29  EXT_EU      EUR      EXP  SITC0-4A       UK   \n",
      "..     ...      ...      ...       ...      ...   \n",
      "70  EXT_EU      EUR      EXP   SITC5-8       ES   \n",
      "71  EXT_EU      EUR      EXP   SITC5-8       EU   \n",
      "72  EXT_EU      EUR      EXP   SITC5-8       FI   \n",
      "73  EXT_EU      EUR      EXP   SITC5-8       FR   \n",
      "74  EXT_EU      EUR      EXP   SITC5-8       HR   \n",
      "75  EXT_EU      EUR      EXP   SITC5-8       HU   \n",
      "76  EXT_EU      EUR      EXP   SITC5-8       IE   \n",
      "77  EXT_EU      EUR      EXP   SITC5-8       IT   \n",
      "78  EXT_EU      EUR      EXP   SITC5-8       LT   \n",
      "79  EXT_EU      EUR      EXP   SITC5-8       LU   \n",
      "80  EXT_EU      EUR      EXP   SITC5-8       LV   \n",
      "81  EXT_EU      EUR      EXP   SITC5-8       MT   \n",
      "82  EXT_EU      EUR      EXP   SITC5-8       NL   \n",
      "83  EXT_EU      EUR      EXP   SITC5-8       PL   \n",
      "84  EXT_EU      EUR      EXP   SITC5-8       PT   \n",
      "85  EXT_EU      EUR      EXP   SITC5-8       RO   \n",
      "86  EXT_EU      EUR      EXP   SITC5-8       SE   \n",
      "87  EXT_EU      EUR      EXP   SITC5-8       SI   \n",
      "88  EXT_EU      EUR      EXP   SITC5-8       SK   \n",
      "89  EXT_EU      EUR      EXP   SITC5-8       UK   \n",
      "90  EXT_EU      EUR      EXP     TOTAL       AT   \n",
      "91  EXT_EU      EUR      EXP     TOTAL       BE   \n",
      "92  EXT_EU      EUR      EXP     TOTAL       BG   \n",
      "93  EXT_EU      EUR      EXP     TOTAL       CY   \n",
      "94  EXT_EU      EUR      EXP     TOTAL       CZ   \n",
      "95  EXT_EU      EUR      EXP     TOTAL       DE   \n",
      "96  EXT_EU      EUR      EXP     TOTAL       DK   \n",
      "97  EXT_EU      EUR      EXP     TOTAL       EA   \n",
      "98  EXT_EU      EUR      EXP     TOTAL       EE   \n",
      "99  EXT_EU      EUR      EXP     TOTAL       EL   \n",
      "\n",
      "   partner,currency,stk_flow,sitc06,geo\\time  2014   2012   2010   \n",
      "0                 EXT_EU,EUR,EXP,SITC0-4A,AT   61.9  65.6     67   \n",
      "1                 EXT_EU,EUR,EXP,SITC0-4A,BE   53.8  85.8   92.4   \n",
      "2                 EXT_EU,EUR,EXP,SITC0-4A,BG   57.0  46.2   54.1   \n",
      "3                 EXT_EU,EUR,EXP,SITC0-4A,CY   79.1  60.7   61.4   \n",
      "4                 EXT_EU,EUR,EXP,SITC0-4A,CZ   58.3  66.7   59.1   \n",
      "5                 EXT_EU,EUR,EXP,SITC0-4A,DE   62.5  61.5   65.9   \n",
      "6                 EXT_EU,EUR,EXP,SITC0-4A,DK   12.8    14   12.2   \n",
      "7                 EXT_EU,EUR,EXP,SITC0-4A,EA   60.7  65.4   64.1   \n",
      "8                 EXT_EU,EUR,EXP,SITC0-4A,EE   67.9  62.8   51.8   \n",
      "9                 EXT_EU,EUR,EXP,SITC0-4A,EL   60.3  58.4     59   \n",
      "10                EXT_EU,EUR,EXP,SITC0-4A,ES   61.8  63.7   75.6   \n",
      "11                EXT_EU,EUR,EXP,SITC0-4A,EU   50.1  53.5   53.2   \n",
      "12                EXT_EU,EUR,EXP,SITC0-4A,FI   42.4  40.7   47.7   \n",
      "13                EXT_EU,EUR,EXP,SITC0-4A,FR   63.8  62.3   58.4   \n",
      "14                EXT_EU,EUR,EXP,SITC0-4A,HR   77.3     :      :   \n",
      "15                EXT_EU,EUR,EXP,SITC0-4A,HU   45.4  45.5   67.8   \n",
      "16                EXT_EU,EUR,EXP,SITC0-4A,IE   45.1  38.9   36.8   \n",
      "17                EXT_EU,EUR,EXP,SITC0-4A,IT   73.1  73.1   70.6   \n",
      "18                EXT_EU,EUR,EXP,SITC0-4A,LT   75.8  79.4   70.9   \n",
      "19                EXT_EU,EUR,EXP,SITC0-4A,LU   99.0  96.6   94.8   \n",
      "20                EXT_EU,EUR,EXP,SITC0-4A,LV   56.4  49.7   59.5   \n",
      "21                EXT_EU,EUR,EXP,SITC0-4A,MT   13.6  34.2    8.7   \n",
      "22                EXT_EU,EUR,EXP,SITC0-4A,NL   52.4  53.8   53.1   \n",
      "23                EXT_EU,EUR,EXP,SITC0-4A,PL    0.0     0    0.5   \n",
      "24                EXT_EU,EUR,EXP,SITC0-4A,PT   72.8  72.8     78   \n",
      "25                EXT_EU,EUR,EXP,SITC0-4A,RO   45.3  43.4   38.1   \n",
      "26                EXT_EU,EUR,EXP,SITC0-4A,SE   17.4  14.8   27.4   \n",
      "27                EXT_EU,EUR,EXP,SITC0-4A,SI   85.7  92.1   91.2   \n",
      "28                EXT_EU,EUR,EXP,SITC0-4A,SK   93.4  96.5   93.6   \n",
      "29                EXT_EU,EUR,EXP,SITC0-4A,UK    4.6   3.1    3.2   \n",
      "..                                       ...    ...    ...    ...  \n",
      "70                 EXT_EU,EUR,EXP,SITC5-8,ES   71.9  71.4   74.8   \n",
      "71                 EXT_EU,EUR,EXP,SITC5-8,EU   51.0  51.8   52.8   \n",
      "72                 EXT_EU,EUR,EXP,SITC5-8,FI   65.8  54.9   49.7   \n",
      "73                 EXT_EU,EUR,EXP,SITC5-8,FR   52.3    53     53   \n",
      "74                 EXT_EU,EUR,EXP,SITC5-8,HR   69.8     :      :   \n",
      "75                 EXT_EU,EUR,EXP,SITC5-8,HU   51.9  45.1   46.6   \n",
      "76                 EXT_EU,EUR,EXP,SITC5-8,IE   11.4   9.1    9.5   \n",
      "77                 EXT_EU,EUR,EXP,SITC5-8,IT   75.7  75.9   76.6   \n",
      "78                 EXT_EU,EUR,EXP,SITC5-8,LT   66.6  58.7   56.5   \n",
      "79                 EXT_EU,EUR,EXP,SITC5-8,LU   58.3  76.1   69.6   \n",
      "80                 EXT_EU,EUR,EXP,SITC5-8,LV   70.9  70.9   71.6   \n",
      "81                 EXT_EU,EUR,EXP,SITC5-8,MT   23.7  27.3   22.3   \n",
      "82                 EXT_EU,EUR,EXP,SITC5-8,NL   52.6  51.6   55.7   \n",
      "83                 EXT_EU,EUR,EXP,SITC5-8,PL    0.0     0    0.3   \n",
      "84                 EXT_EU,EUR,EXP,SITC5-8,PT   70.6  72.5   74.3   \n",
      "85                 EXT_EU,EUR,EXP,SITC5-8,RO   64.0  64.4   63.5   \n",
      "86                 EXT_EU,EUR,EXP,SITC5-8,SE   22.0  24.8   22.8   \n",
      "87                 EXT_EU,EUR,EXP,SITC5-8,SI   78.1  82.3   85.2   \n",
      "88                 EXT_EU,EUR,EXP,SITC5-8,SK   82.6    88     81   \n",
      "89                 EXT_EU,EUR,EXP,SITC5-8,UK    4.1   4.1    4.1   \n",
      "90                   EXT_EU,EUR,EXP,TOTAL,AT   71.7  73.6   74.4   \n",
      "91                   EXT_EU,EUR,EXP,TOTAL,BE   41.4  50.9   51.6   \n",
      "92                   EXT_EU,EUR,EXP,TOTAL,BG   41.7  36.7   43.2   \n",
      "93                   EXT_EU,EUR,EXP,TOTAL,CY   67.4  57.2   63.5   \n",
      "94                   EXT_EU,EUR,EXP,TOTAL,CZ   49.5  50.5   50.5   \n",
      "95                   EXT_EU,EUR,EXP,TOTAL,DE   61.8  64.6   66.6   \n",
      "96                   EXT_EU,EUR,EXP,TOTAL,DK   22.7  22.3   22.8   \n",
      "97                   EXT_EU,EUR,EXP,TOTAL,EA   58.7  60.3   60.4   \n",
      "98                   EXT_EU,EUR,EXP,TOTAL,EE   63.0  53.8   44.1   \n",
      "99                   EXT_EU,EUR,EXP,TOTAL,EL   32.9  36.6   44.8   \n",
      "\n",
      "[100 rows x 9 columns]\n"
     ]
    }
   ],
   "source": [
    "for chunk in pd.read_csv('data/ext_lt_invcur.tsv', sep='\\t', chunksize=100):\n",
    "    data_rows = [row for row in chunk.ix[:,0].str.split(',')]\n",
    "    data_cols = chunk.columns[0].split(',')\n",
    "    new_df = pd.concat([pd.DataFrame(data_rows, columns=data_cols), chunk], axis=1)\n",
    "    print(new_df)\n",
    "    break\n",
    "    df = pd.concat([df, chunk])"
   ]
  },
  {
   "cell_type": "code",
   "execution_count": 58,
   "metadata": {
    "collapsed": false
   },
   "outputs": [],
   "source": [
    "for chunk in pd.read_csv('data/ext_lt_invcur.tsv', sep='\\t', chunksize=100):\n",
    "    data_rows = [row for row in chunk.ix[:,0].str.split(',')]\n",
    "    data_cols = [col.split('\\\\')[0] for col in chunk.columns[0].split(',')]\n",
    "    new_df = pd.concat([pd.DataFrame(data_rows, columns=data_cols), chunk.drop(chunk.columns[0], axis=1)], axis=1)\n",
    "    df = pd.concat([df, new_df])"
   ]
  },
  {
   "cell_type": "code",
   "execution_count": 60,
   "metadata": {
    "collapsed": false
   },
   "outputs": [
    {
     "data": {
      "text/html": [
       "<div>\n",
       "<table border=\"1\" class=\"dataframe\">\n",
       "  <thead>\n",
       "    <tr style=\"text-align: right;\">\n",
       "      <th></th>\n",
       "      <th>partner</th>\n",
       "      <th>currency</th>\n",
       "      <th>stk_flow</th>\n",
       "      <th>sitc06</th>\n",
       "      <th>geo</th>\n",
       "      <th>2014</th>\n",
       "      <th>2012</th>\n",
       "      <th>2010</th>\n",
       "    </tr>\n",
       "  </thead>\n",
       "  <tbody>\n",
       "    <tr>\n",
       "      <th>0</th>\n",
       "      <td>EXT_EU</td>\n",
       "      <td>EUR</td>\n",
       "      <td>EXP</td>\n",
       "      <td>SITC0-4A</td>\n",
       "      <td>AT</td>\n",
       "      <td>61.9</td>\n",
       "      <td>65.6</td>\n",
       "      <td>67</td>\n",
       "    </tr>\n",
       "    <tr>\n",
       "      <th>1</th>\n",
       "      <td>EXT_EU</td>\n",
       "      <td>EUR</td>\n",
       "      <td>EXP</td>\n",
       "      <td>SITC0-4A</td>\n",
       "      <td>BE</td>\n",
       "      <td>53.8</td>\n",
       "      <td>85.8</td>\n",
       "      <td>92.4</td>\n",
       "    </tr>\n",
       "    <tr>\n",
       "      <th>2</th>\n",
       "      <td>EXT_EU</td>\n",
       "      <td>EUR</td>\n",
       "      <td>EXP</td>\n",
       "      <td>SITC0-4A</td>\n",
       "      <td>BG</td>\n",
       "      <td>57.0</td>\n",
       "      <td>46.2</td>\n",
       "      <td>54.1</td>\n",
       "    </tr>\n",
       "    <tr>\n",
       "      <th>3</th>\n",
       "      <td>EXT_EU</td>\n",
       "      <td>EUR</td>\n",
       "      <td>EXP</td>\n",
       "      <td>SITC0-4A</td>\n",
       "      <td>CY</td>\n",
       "      <td>79.1</td>\n",
       "      <td>60.7</td>\n",
       "      <td>61.4</td>\n",
       "    </tr>\n",
       "    <tr>\n",
       "      <th>4</th>\n",
       "      <td>EXT_EU</td>\n",
       "      <td>EUR</td>\n",
       "      <td>EXP</td>\n",
       "      <td>SITC0-4A</td>\n",
       "      <td>CZ</td>\n",
       "      <td>58.3</td>\n",
       "      <td>66.7</td>\n",
       "      <td>59.1</td>\n",
       "    </tr>\n",
       "  </tbody>\n",
       "</table>\n",
       "</div>"
      ],
      "text/plain": [
       "  partner currency stk_flow    sitc06 geo  2014   2012   2010 \n",
       "0  EXT_EU      EUR      EXP  SITC0-4A  AT   61.9  65.6     67 \n",
       "1  EXT_EU      EUR      EXP  SITC0-4A  BE   53.8  85.8   92.4 \n",
       "2  EXT_EU      EUR      EXP  SITC0-4A  BG   57.0  46.2   54.1 \n",
       "3  EXT_EU      EUR      EXP  SITC0-4A  CY   79.1  60.7   61.4 \n",
       "4  EXT_EU      EUR      EXP  SITC0-4A  CZ   58.3  66.7   59.1 "
      ]
     },
     "execution_count": 60,
     "metadata": {},
     "output_type": "execute_result"
    }
   ],
   "source": [
    "df.head()"
   ]
  },
  {
   "cell_type": "code",
   "execution_count": null,
   "metadata": {
    "collapsed": true
   },
   "outputs": [],
   "source": []
  },
  {
   "cell_type": "code",
   "execution_count": null,
   "metadata": {
    "collapsed": true
   },
   "outputs": [],
   "source": []
  }
 ],
 "metadata": {
  "kernelspec": {
   "display_name": "Python 2",
   "language": "python",
   "name": "python2"
  },
  "language_info": {
   "codemirror_mode": {
    "name": "ipython",
    "version": 2
   },
   "file_extension": ".py",
   "mimetype": "text/x-python",
   "name": "python",
   "nbconvert_exporter": "python",
   "pygments_lexer": "ipython2",
   "version": "2.7.6"
  }
 },
 "nbformat": 4,
 "nbformat_minor": 0
}
