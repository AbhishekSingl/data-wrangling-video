{
 "cells": [
  {
   "cell_type": "code",
   "execution_count": 43,
   "metadata": {
    "collapsed": true
   },
   "outputs": [],
   "source": [
    "import requests\n",
    "from multiprocessing import Pool\n",
    "from ConfigParser import ConfigParser\n",
    "from urllib import quote_plus"
   ]
  },
  {
   "cell_type": "code",
   "execution_count": 54,
   "metadata": {
    "collapsed": true
   },
   "outputs": [],
   "source": [
    "def upcoming_forecast(args):\n",
    "    \"\"\" Pulls upcoming forecast based on address. \"\"\"\n",
    "    config, address = args\n",
    "    lat, lon = get_lat_long(config, address)\n",
    "    resp = requests.get('http://api.openweathermap.org/data/2.5/forecast',\n",
    "                        params={'lat': lat, 'lon': lon, \n",
    "                                'appid': config.get('openweather', 'api_key'),\n",
    "                                'units': 'metric'})\n",
    "    return (address, resp.json())"
   ]
  },
  {
   "cell_type": "code",
   "execution_count": 55,
   "metadata": {
    "collapsed": true
   },
   "outputs": [],
   "source": [
    "def get_config():\n",
    "    \"\"\" Return my config object. \"\"\"\n",
    "    conf = ConfigParser()\n",
    "    conf.read('config/prod.cfg')\n",
    "    return conf"
   ]
  },
  {
   "cell_type": "code",
   "execution_count": 56,
   "metadata": {
    "collapsed": true
   },
   "outputs": [],
   "source": [
    "def get_lat_long(config, address):\n",
    "    \"\"\" Returns lat and long from Google geocode API based on address. \"\"\"\n",
    "    qs_dict = {'address': quote_plus(address),\n",
    "               'key': config.get('google', 'api_key'),\n",
    "    }\n",
    "    resp = requests.get('https://maps.googleapis.com/maps/api/geocode/json', params=qs_dict)\n",
    "    try:\n",
    "        lat, lon = resp.json().get('results')[0].get('geometry').get('location').values()\n",
    "    except KeyError:\n",
    "        raise Exception('Could not find address: %s', address)\n",
    "    return lat, lon"
   ]
  },
  {
   "cell_type": "code",
   "execution_count": 59,
   "metadata": {
    "collapsed": false
   },
   "outputs": [],
   "source": [
    "def get_city_forecasts(addresses): \n",
    "    \"\"\" Returns forecasts when given a list of string addresses based on Google geocoding and openweather data. \"\"\"\n",
    "    config = get_config()\n",
    "    pool = Pool(processes=4) \n",
    "    return pool.map(upcoming_forecast, [(config, addy) for addy in addresses])"
   ]
  },
  {
   "cell_type": "code",
   "execution_count": 61,
   "metadata": {
    "collapsed": false
   },
   "outputs": [],
   "source": [
    "my_weather = get_city_forecasts(['Los Angeles, CA', 'New York, NY', 'Berlin, Germany'])"
   ]
  },
  {
   "cell_type": "code",
   "execution_count": 62,
   "metadata": {
    "collapsed": false
   },
   "outputs": [
    {
     "data": {
      "text/plain": [
       "list"
      ]
     },
     "execution_count": 62,
     "metadata": {},
     "output_type": "execute_result"
    }
   ],
   "source": [
    "type(my_weather)"
   ]
  },
  {
   "cell_type": "code",
   "execution_count": 63,
   "metadata": {
    "collapsed": false
   },
   "outputs": [
    {
     "name": "stdout",
     "output_type": "stream",
     "text": [
      "Los Angeles, CA\n",
      "New York, NY\n",
      "Berlin, Germany\n"
     ]
    }
   ],
   "source": [
    "for item in my_weather:\n",
    "    print item[0]"
   ]
  },
  {
   "cell_type": "code",
   "execution_count": null,
   "metadata": {
    "collapsed": true
   },
   "outputs": [],
   "source": []
  }
 ],
 "metadata": {
  "kernelspec": {
   "display_name": "Python 2",
   "language": "python",
   "name": "python2"
  },
  "language_info": {
   "codemirror_mode": {
    "name": "ipython",
    "version": 2
   },
   "file_extension": ".py",
   "mimetype": "text/x-python",
   "name": "python",
   "nbconvert_exporter": "python",
   "pygments_lexer": "ipython2",
   "version": "2.7.6"
  }
 },
 "nbformat": 4,
 "nbformat_minor": 0
}
